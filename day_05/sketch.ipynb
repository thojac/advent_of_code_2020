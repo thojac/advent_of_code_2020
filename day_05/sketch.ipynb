{
 "cells": [
  {
   "cell_type": "code",
   "execution_count": 29,
   "metadata": {},
   "outputs": [],
   "source": [
    "PATH = 'input.txt'"
   ]
  },
  {
   "cell_type": "code",
   "execution_count": 30,
   "metadata": {},
   "outputs": [],
   "source": [
    "def read_input(PATH):\n",
    "    data = []\n",
    "    with open(PATH) as f:\n",
    "        for line in f:\n",
    "            data.append((line[:7], line[-4:-1])) # (row_id, col_id)\n",
    "    return data"
   ]
  },
  {
   "cell_type": "code",
   "execution_count": 31,
   "metadata": {},
   "outputs": [],
   "source": [
    "def classify_seat(seat_id):\n",
    "    classifier = lambda seq, pred: sum(2**idx for idx, letter in enumerate(reversed(seq)) if letter == pred)\n",
    "    return classifier(seat_id[0], 'B') * 8 + classifier(seat_id[1], 'R')"
   ]
  },
  {
   "cell_type": "code",
   "execution_count": 32,
   "metadata": {},
   "outputs": [],
   "source": [
    "def solve_pt1():\n",
    "    return max(classify_seat(bpass) for bpass in read_input(PATH))\n",
    "\n",
    "def solve_pt2():\n",
    "    passes = [classify_seat(bpass) for bpass in read_input(PATH)] \n",
    "    passes.sort()\n",
    "    for idx, (a,b) in enumerate(zip(passes[:-1], passes[1:])):\n",
    "        if b-a > 1:\n",
    "            return a+1"
   ]
  },
  {
   "cell_type": "code",
   "execution_count": 33,
   "metadata": {},
   "outputs": [
    {
     "name": "stdout",
     "output_type": "stream",
     "text": [
      "850\n",
      "599\n"
     ]
    }
   ],
   "source": [
    "print(solve_pt1())\n",
    "print(solve_pt2())"
   ]
  }
 ],
 "metadata": {
  "kernelspec": {
   "display_name": "Python 3",
   "language": "python",
   "name": "python3"
  },
  "language_info": {
   "codemirror_mode": {
    "name": "ipython",
    "version": 3
   },
   "file_extension": ".py",
   "mimetype": "text/x-python",
   "name": "python",
   "nbconvert_exporter": "python",
   "pygments_lexer": "ipython3",
   "version": "3.7.4"
  }
 },
 "nbformat": 4,
 "nbformat_minor": 4
}
