{
 "cells": [
  {
   "cell_type": "code",
   "execution_count": 1,
   "metadata": {},
   "outputs": [],
   "source": [
    "from functools import reduce\n",
    "import re\n",
    "\n",
    "PATH = 'input.txt'"
   ]
  },
  {
   "cell_type": "code",
   "execution_count": 2,
   "metadata": {},
   "outputs": [],
   "source": [
    "def process_input(PATH):\n",
    "    with open(PATH) as f:\n",
    "        raw = [group.split('\\n') for group in re.split(r'\\n\\n', f.read())]\n",
    "        return [{'sett': {letter for entry in group for letter in entry}, \n",
    "                 'count': reduce(lambda x,y: x & y,[{x for x in test} for test in group])} \n",
    "                for group in raw]"
   ]
  },
  {
   "cell_type": "code",
   "execution_count": 3,
   "metadata": {},
   "outputs": [],
   "source": [
    "def solve_pt1():\n",
    "    return sum(len(group['sett']) for group in process_input(PATH))\n",
    "\n",
    "def solve_pt2():\n",
    "    return sum(len(group['count']) for group in process_input(PATH))"
   ]
  },
  {
   "cell_type": "code",
   "execution_count": 4,
   "metadata": {},
   "outputs": [
    {
     "name": "stdout",
     "output_type": "stream",
     "text": [
      "6521\n",
      "3305\n"
     ]
    }
   ],
   "source": [
    "print(solve_pt1())\n",
    "print(solve_pt2())"
   ]
  }
 ],
 "metadata": {
  "kernelspec": {
   "display_name": "Python 3",
   "language": "python",
   "name": "python3"
  },
  "language_info": {
   "codemirror_mode": {
    "name": "ipython",
    "version": 3
   },
   "file_extension": ".py",
   "mimetype": "text/x-python",
   "name": "python",
   "nbconvert_exporter": "python",
   "pygments_lexer": "ipython3",
   "version": "3.7.4"
  }
 },
 "nbformat": 4,
 "nbformat_minor": 4
}
