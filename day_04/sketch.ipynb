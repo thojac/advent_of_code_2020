{
 "cells": [
  {
   "cell_type": "code",
   "execution_count": 2,
   "metadata": {},
   "outputs": [
    {
     "name": "stdout",
     "output_type": "stream",
     "text": [
      "264\n",
      "224\n"
     ]
    }
   ],
   "source": [
    "from collections import deque, defaultdict\n",
    "from functools import reduce\n",
    "from operator import mul\n",
    "import itertools\n",
    "import numpy as np\n",
    "import re\n",
    "\n",
    "import sys\n",
    "sys.path.insert(0,'..')\n",
    "from advent_lib import *\n",
    "\n",
    "PATH = 'input.txt'\n",
    "\n",
    "def read_passports():\n",
    "    text = open(PATH).read()\n",
    "    text = re.split(r\"\\n\\n\", text)\n",
    "    text = [group.replace('\\n', ' ') for group in text]\n",
    "    text = [group.split() for group in text]\n",
    "    passports = [[value.split(':') for value in group] for group in text]\n",
    "    passports = [{k:v for (k,v) in group} for group in passports]\n",
    "    return passports\n",
    "\n",
    "checks = dict()\n",
    "\n",
    "def register_check(name):\n",
    "    def decorator(func):\n",
    "        checks[name] = func\n",
    "    return decorator    \n",
    "\n",
    "@register_check('byr')\n",
    "def check_byr(passport):\n",
    "    byr = int(passport['byr'])\n",
    "    return byr >= 1920 and byr <= 2002\n",
    "\n",
    "@register_check('iyr')\n",
    "def check_iyr(passport):\n",
    "    iyr = int(passport['iyr'])\n",
    "    return iyr >= 2010 and iyr <= 2020\n",
    "    \n",
    "@register_check('eyr')\n",
    "def check_eyr(passport):\n",
    "    eyr = int(passport['eyr'])\n",
    "    return eyr >= 2020 and eyr <= 2030\n",
    "\n",
    "@register_check('hgt')\n",
    "def check_hgt(passport):\n",
    "    return re.match(r\"^(1[5-8]\\d|19[0-3])cm$|^(([5-6]\\d|7[0-6])in)$\", passport['hgt']) != None\n",
    "    \n",
    "@register_check('hcl')\n",
    "def check_hcl(passport):\n",
    "    return re.match(r\"^#[0-9a-f]{6}$\", passport['hcl']) != None\n",
    "\n",
    "@register_check('ecl')\n",
    "def check_ecl(passport):\n",
    "    return passport['ecl'] in {'amb', 'blu', 'brn', 'gry', 'grn', 'hzl', 'oth'}\n",
    "\n",
    "@register_check('pid')\n",
    "def check_pid(passport):\n",
    "    return re.match(r\"^[0-9]{9}$\", passport['pid']) != None\n",
    "\n",
    "def check_fields(passport):\n",
    "    required = {'byr','iyr','eyr','hgt','hcl','ecl','pid','cid'}\n",
    "    return required-{key for key in passport.keys()} in (set(), {'cid'}) \n",
    "\n",
    "def is_valid_passport(passport, required): \n",
    "    if check_fields(passport):\n",
    "        return sum([check(passport) for check in required]) == len(required)\n",
    "    else:\n",
    "        return False\n",
    "\n",
    "def solve(required):\n",
    "    passports = read_passports()\n",
    "    return sum([is_valid_passport(passport, required) for passport in passports])\n",
    "\n",
    "print(solve([]))\n",
    "print(solve(list(checks.values())))"
   ]
  }
 ],
 "metadata": {
  "kernelspec": {
   "display_name": "Python 3",
   "language": "python",
   "name": "python3"
  },
  "language_info": {
   "codemirror_mode": {
    "name": "ipython",
    "version": 3
   },
   "file_extension": ".py",
   "mimetype": "text/x-python",
   "name": "python",
   "nbconvert_exporter": "python",
   "pygments_lexer": "ipython3",
   "version": "3.7.4"
  }
 },
 "nbformat": 4,
 "nbformat_minor": 4
}
