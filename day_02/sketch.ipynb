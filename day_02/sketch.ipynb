{
 "cells": [
  {
   "cell_type": "code",
   "execution_count": 1,
   "metadata": {},
   "outputs": [],
   "source": [
    "import re\n",
    "\n",
    "import sys\n",
    "sys.path.insert(0,'..')\n",
    "from advent_lib import *\n",
    "\n",
    "PATH = 'input.txt'"
   ]
  },
  {
   "cell_type": "code",
   "execution_count": 2,
   "metadata": {},
   "outputs": [],
   "source": [
    "def process_line(line):\n",
    "    data =  re.split('\\s|-', line.replace(':', ''))[:-1]\n",
    "    data[0] = int(data[0])\n",
    "    data[1] = int(data[1])\n",
    "    return data"
   ]
  },
  {
   "cell_type": "code",
   "execution_count": 3,
   "metadata": {},
   "outputs": [],
   "source": [
    "def check_1(minn, maxx, key, password):\n",
    "    count = password.count(key)\n",
    "    return 1 if (count >= minn and count <= maxx) else 0\n",
    "\n",
    "def check_2(minn, maxx, key, password):\n",
    "    check = sum([password[minn-1] == key, password[maxx-1] == key])\n",
    "    return 1 if check == 1 else 0\n",
    "\n",
    "def solve(check):\n",
    "    lines = read_file(PATH, dtype=str)\n",
    "    count = 0\n",
    "    for idx, line in enumerate(lines):\n",
    "        count += check(*process_line(line))\n",
    "    return count"
   ]
  },
  {
   "cell_type": "code",
   "execution_count": 4,
   "metadata": {},
   "outputs": [
    {
     "data": {
      "text/plain": [
       "416"
      ]
     },
     "execution_count": 4,
     "metadata": {},
     "output_type": "execute_result"
    }
   ],
   "source": [
    "solve(check_1)"
   ]
  },
  {
   "cell_type": "code",
   "execution_count": 5,
   "metadata": {},
   "outputs": [
    {
     "data": {
      "text/plain": [
       "688"
      ]
     },
     "execution_count": 5,
     "metadata": {},
     "output_type": "execute_result"
    }
   ],
   "source": [
    "solve(check_2)"
   ]
  }
 ],
 "metadata": {
  "kernelspec": {
   "display_name": "Python 3",
   "language": "python",
   "name": "python3"
  },
  "language_info": {
   "codemirror_mode": {
    "name": "ipython",
    "version": 3
   },
   "file_extension": ".py",
   "mimetype": "text/x-python",
   "name": "python",
   "nbconvert_exporter": "python",
   "pygments_lexer": "ipython3",
   "version": "3.7.4"
  }
 },
 "nbformat": 4,
 "nbformat_minor": 4
}
