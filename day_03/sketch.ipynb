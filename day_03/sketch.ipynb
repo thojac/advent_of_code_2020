{
 "cells": [
  {
   "cell_type": "code",
   "execution_count": 1,
   "metadata": {},
   "outputs": [],
   "source": [
    "from functools import reduce\n",
    "from operator import mul\n",
    "\n",
    "PATH = 'input.txt'"
   ]
  },
  {
   "cell_type": "code",
   "execution_count": 2,
   "metadata": {},
   "outputs": [],
   "source": [
    "def read_file(path):\n",
    "    lst = []\n",
    "    with open(path) as f:\n",
    "        for line in f:\n",
    "            lst.append(line[:-1])\n",
    "    return lst"
   ]
  },
  {
   "cell_type": "code",
   "execution_count": 3,
   "metadata": {},
   "outputs": [],
   "source": [
    "def travel(planet_matrix, move_right, move_down):\n",
    "    pos_x = 0\n",
    "    pos_y = 0\n",
    "    width = len(planet_matrix[0])\n",
    "    \n",
    "    count = 0\n",
    "    while pos_x < len(planet_matrix):\n",
    "        terrain = planet_matrix[pos_x][pos_y % width]\n",
    "        if terrain == '#':\n",
    "            count += 1\n",
    "        pos_x += move_down\n",
    "        pos_y += move_right\n",
    "\n",
    "    return count"
   ]
  },
  {
   "cell_type": "code",
   "execution_count": 4,
   "metadata": {},
   "outputs": [],
   "source": [
    "def solve(moves):\n",
    "    planet_matrix = read_file(PATH)\n",
    "    return reduce(mul, [travel(planet_matrix, *move) for move in moves]) "
   ]
  },
  {
   "cell_type": "code",
   "execution_count": 7,
   "metadata": {},
   "outputs": [
    {
     "name": "stdout",
     "output_type": "stream",
     "text": [
      "270\n",
      "2122848000\n"
     ]
    }
   ],
   "source": [
    "print(solve([(3,1)]))\n",
    "print(solve([(1, 1), (3, 1), (5, 1), (7,1), (1,2)]))"
   ]
  }
 ],
 "metadata": {
  "kernelspec": {
   "display_name": "Python 3",
   "language": "python",
   "name": "python3"
  },
  "language_info": {
   "codemirror_mode": {
    "name": "ipython",
    "version": 3
   },
   "file_extension": ".py",
   "mimetype": "text/x-python",
   "name": "python",
   "nbconvert_exporter": "python",
   "pygments_lexer": "ipython3",
   "version": "3.7.4"
  }
 },
 "nbformat": 4,
 "nbformat_minor": 4
}
